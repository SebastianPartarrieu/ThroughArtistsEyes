{
 "cells": [
  {
   "cell_type": "code",
   "execution_count": 1,
   "metadata": {},
   "outputs": [],
   "source": [
    "#!/usr/bin/env python3\n",
    "# -*- coding: utf-8 -*-\n",
    "\"\"\"\n",
    "Created on Mon Nov  2 13:13:37 2020\n",
    "\n",
    "@author: sophierossi\n",
    "\"\"\"\n",
    "\n",
    "import scipy.misc, numpy as np, os, sys\n",
    "import imageio\n",
    "from PIL import Image"
   ]
  },
  {
   "cell_type": "code",
   "execution_count": 2,
   "metadata": {},
   "outputs": [],
   "source": [
    "def size_up(img_path, output_name, output_path, intermed_path):\n",
    "    start = imageio.imread(img_path, pilmode='RGB')\n",
    "    length, width = start.shape[0], start.shape[1] #inversion des noms \n",
    "    # copie des 50 pixels en haut\n",
    "    up = start[0:50, :]\n",
    "    # copie des 50 pixels en bas\n",
    "    down = start[length - 50:, :]\n",
    "    \n",
    "    # nouvelle image intermediaire\n",
    "    intermed_array = np.concatenate((up, start, down), axis = 0)\n",
    "    intermed = imageio.imwrite(intermed_path, intermed_array)\n",
    "    intermediate = imageio.imread(intermed_path, pilmode = \"RGB\")\n",
    "    \n",
    "    # copie des 50 pixels à gauche\n",
    "    left = intermediate[:,:50]\n",
    "    # copie des 50 pixels à droite\n",
    "    right = intermediate[:, width - 50:]\n",
    "    \n",
    "    # image finale agrandie\n",
    "    final_array = np.concatenate((left, intermediate, right), axis = 1)\n",
    "    final_path = output_path + \"/\"+output_name\n",
    "    final = imageio.imwrite(final_path, final_array)"
   ]
  },
  {
   "cell_type": "code",
   "execution_count": 3,
   "metadata": {},
   "outputs": [],
   "source": [
    "def size_down(img_path, output_name, output_path):\n",
    "    start = imageio.imread(img_path, pilmode='RGB')\n",
    "    length, width = start.shape[0], start.shape[1]\n",
    "    final_array = start[50:length -50, 50: width-50]\n",
    "    final_path = output_path + \"/\"+output_name\n",
    "    final = imageio.imwrite(final_path, final_array)"
   ]
  },
  {
   "cell_type": "code",
   "execution_count": null,
   "metadata": {},
   "outputs": [],
   "source": [
    "size_up(\"/Users/sophierossi/Desktop/bedroom.jpg\", \"bedroom_big.jpg\",\"/Users/sophierossi/Desktop\", \"/Users/sophierossi/Desktop/intermed_useless/test.jpg\")\n",
    "input_dir_path = \"/Users/sophierossi/Desktop/dataset_360_towns\""
   ]
  },
  {
   "cell_type": "code",
   "execution_count": null,
   "metadata": {},
   "outputs": [],
   "source": [
    "# to size up a whole directory\n",
    "L = os.listdir(input_dir_path)\n",
    "output_path = \"/Users/sophierossi/Desktop/sized_up_imgs\"\n",
    "intermed_path = \"/Users/sophierossi/Desktop/intermed_useless/test.jpg\"\n",
    "reverse_path = \"/Users/sophierossi/Desktop/sized_down_imgs\"\n",
    "for name in L:\n",
    "    img_path = input_dir_path + \"/\"+name\n",
    "    len_name = len(name)\n",
    "    output_name = name[:len_name-4]+\"_sized_up.jpg\"\n",
    "    size_up(img_path, output_name, output_path, intermed_path)"
   ]
  },
  {
   "cell_type": "code",
   "execution_count": null,
   "metadata": {},
   "outputs": [],
   "source": [
    "# to size up a whole directory\n",
    "L = os.listdir(input_dir_path)\n",
    "output_path = \"/Users/sophierossi/Desktop/sized_up_imgs\"\n",
    "intermed_path = \"/Users/sophierossi/Desktop/intermed_useless/test.jpg\"\n",
    "reverse_path = \"/Users/sophierossi/Desktop/sized_down_imgs\"\n",
    "for name in L:\n",
    "    img_path = input_dir_path + \"/\"+name\n",
    "    len_name = len(name)\n",
    "    output_name = name[:len_name-4]+\"_sized_up.jpg\"\n",
    "    size_up(img_path, output_name, output_path, intermed_path)\n",
    "\n",
    "# to size down a whole directory\n",
    "L_2 = os.listdir(output_path)\n",
    "for name in L_2:\n",
    "    img_path = output_path+\"/\"+name\n",
    "    len_name = len(name)\n",
    "    output_name = name[:len_name-4]+\"_reversed.jpg\"\n",
    "    size_down(img_path, output_name, reverse_path)"
   ]
  }
 ],
 "metadata": {
  "kernelspec": {
   "display_name": "Python 3.7.3 64-bit ('base': conda)",
   "language": "python",
   "name": "python37364bitbaseconda108dc5d651b947a2ba88716975a93f07"
  },
  "language_info": {
   "codemirror_mode": {
    "name": "ipython",
    "version": 3
   },
   "file_extension": ".py",
   "mimetype": "text/x-python",
   "name": "python",
   "nbconvert_exporter": "python",
   "pygments_lexer": "ipython3",
   "version": "3.7.3"
  }
 },
 "nbformat": 4,
 "nbformat_minor": 2
}
